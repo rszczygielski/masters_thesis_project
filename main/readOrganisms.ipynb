{
 "cells": [
  {
   "cell_type": "code",
   "execution_count": 30,
   "metadata": {},
   "outputs": [],
   "source": [
    "from IPython.display import display\n",
    "from IPython.core.interactiveshell import InteractiveShell\n",
    "InteractiveShell.ast_node_interactivity = \"all\"\n",
    "import pandas as pd\n",
    "import numpy as np\n",
    "import os\n",
    "from numpy import nan"
   ]
  },
  {
   "cell_type": "code",
   "execution_count": 31,
   "metadata": {},
   "outputs": [
    {
     "data": {
      "text/plain": [
       "[\"'Chordata'\",\n",
       " \"'Craniata'\",\n",
       " \"'Vertebrata'\",\n",
       " \"'Chondrichthyes'\",\n",
       " \"'Elasmobranchii'\"]"
      ]
     },
     "execution_count": 31,
     "metadata": {},
     "output_type": "execute_result"
    }
   ],
   "source": [
    "taxonomy_excel = pd.read_excel(\"/home/rszczygielski/bioinf/magisterka/geneBank/results/taxonomy1.xlsx\")\n",
    "array_of_values = taxonomy_excel.values\n",
    "list_of_values = []\n",
    "for row_array in array_of_values:\n",
    "    row_array = row_array[~pd.isnull(row_array)]\n",
    "    row_list = list(row_array)\n",
    "    list_of_values.append(row_list)\n",
    "\n",
    "taxonomy_row_list = []\n",
    "for elem in list_of_values:\n",
    "    new_elem = list(map(str.strip, elem))\n",
    "    taxonomy_row_list.append(new_elem)\n",
    "taxonomy_row_list[0]"
   ]
  },
  {
   "cell_type": "code",
   "execution_count": 32,
   "metadata": {},
   "outputs": [],
   "source": [
    "main_file_path = \"/home/rszczygielski/bioinf/magisterka/geneBank/results/mitochondrion_2.txt\"\n",
    "df_masters = pd.read_csv(main_file_path,\\\n",
    "    header=0,\\\n",
    "    delimiter='\\t',\\\n",
    "    usecols=[\"ACCESSION\", \"ORGANISM\",\"TAXONOMY\", \"PREVIOUS_GENE\",\"CONTROL_REGION\", \"NEXT_GENE\"],\\\n",
    "    index_col=\"ACCESSION\")\n",
    "\n",
    "df_taxonomy = df_masters[[\"TAXONOMY\", \"PREVIOUS_GENE\",\"CONTROL_REGION\", \"NEXT_GENE\"]]"
   ]
  },
  {
   "cell_type": "code",
   "execution_count": 33,
   "metadata": {},
   "outputs": [],
   "source": [
    "# TEST\n",
    "# test_cr = df_taxonomy[\"CONTROL_REGION\"].to_list()\n",
    "# for cr in test_cr:\n",
    "#     splited_row = cr.split()\n",
    "#     if splited_row[-1] != \"None\":\n",
    "#         print(cr)"
   ]
  },
  {
   "cell_type": "code",
   "execution_count": 34,
   "metadata": {},
   "outputs": [
    {
     "name": "stderr",
     "output_type": "stream",
     "text": [
      "/tmp/ipykernel_9953/833460683.py:14: SettingWithCopyWarning: \n",
      "A value is trying to be set on a copy of a slice from a DataFrame.\n",
      "Try using .loc[row_indexer,col_indexer] = value instead\n",
      "\n",
      "See the caveats in the documentation: https://pandas.pydata.org/pandas-docs/stable/user_guide/indexing.html#returning-a-view-versus-a-copy\n",
      "  df_taxonomy[\"PREVIOUS_GENE\"] = df_taxonomy[\"PREVIOUS_GENE\"].apply(lambda value: get_specific_previous_and_next_gene_info(value))\n",
      "/tmp/ipykernel_9953/833460683.py:15: SettingWithCopyWarning: \n",
      "A value is trying to be set on a copy of a slice from a DataFrame.\n",
      "Try using .loc[row_indexer,col_indexer] = value instead\n",
      "\n",
      "See the caveats in the documentation: https://pandas.pydata.org/pandas-docs/stable/user_guide/indexing.html#returning-a-view-versus-a-copy\n",
      "  df_taxonomy[\"CONTROL_REGION\"] = df_taxonomy[\"CONTROL_REGION\"].apply(lambda value: get_specific_control_region_info(value))\n",
      "/tmp/ipykernel_9953/833460683.py:16: SettingWithCopyWarning: \n",
      "A value is trying to be set on a copy of a slice from a DataFrame.\n",
      "Try using .loc[row_indexer,col_indexer] = value instead\n",
      "\n",
      "See the caveats in the documentation: https://pandas.pydata.org/pandas-docs/stable/user_guide/indexing.html#returning-a-view-versus-a-copy\n",
      "  df_taxonomy[\"NEXT_GENE\"] = df_taxonomy[\"NEXT_GENE\"].apply(lambda value: get_specific_previous_and_next_gene_info(value))\n"
     ]
    }
   ],
   "source": [
    "import re\n",
    "\n",
    "def get_specific_previous_and_next_gene_info(previous_gene):\n",
    "    list_of_bruckets = list(re.findall(r'\\[.*?\\]', previous_gene))\n",
    "    if len(list_of_bruckets) == 1 or len(list_of_bruckets) > 2:\n",
    "        result = previous_gene.split()[0]\n",
    "    else:\n",
    "        result = list_of_bruckets[1]\n",
    "    return result\n",
    "\n",
    "def get_specific_control_region_info(control_region):\n",
    "    return control_region.split()[0]\n",
    "\n",
    "df_taxonomy[\"PREVIOUS_GENE\"] = df_taxonomy[\"PREVIOUS_GENE\"].apply(lambda value: get_specific_previous_and_next_gene_info(value))\n",
    "df_taxonomy[\"CONTROL_REGION\"] = df_taxonomy[\"CONTROL_REGION\"].apply(lambda value: get_specific_control_region_info(value))\n",
    "df_taxonomy[\"NEXT_GENE\"] = df_taxonomy[\"NEXT_GENE\"].apply(lambda value: get_specific_previous_and_next_gene_info(value))\n",
    "# test = df_taxonomy[\"CONTROL_REGION\"].apply(lambda value: get_specific_control_region_info(value))\n",
    "\n",
    "# display(test)"
   ]
  },
  {
   "cell_type": "code",
   "execution_count": 35,
   "metadata": {},
   "outputs": [],
   "source": [
    "# display(df_taxonomy)\n",
    "# pd.set_option('display.max_columns', None)\n",
    "pd.set_option('display.max_rows', None)\n",
    "\n",
    "\n",
    "general_table = pd.DataFrame()\n",
    "for row_excel_taxonomy in enumerate(taxonomy_row_list):\n",
    "    joined_values_entry = \", \".join(row_excel_taxonomy[1])\n",
    "    aggragated_taxonomy = df_taxonomy.where(df_taxonomy[\"TAXONOMY\"].str.contains(joined_values_entry)).dropna()\n",
    "    general_table = pd.concat([general_table, aggragated_taxonomy])\n",
    "\n",
    "general_table.to_excel(f\"/home/rszczygielski/bioinf/magisterka/geneBank/results/General_info_mitochondrion_2.xlsx\")\n"
   ]
  },
  {
   "cell_type": "code",
   "execution_count": 36,
   "metadata": {},
   "outputs": [
    {
     "data": {
      "text/plain": [
       "TAXONOMY          3514\n",
       "PREVIOUS_GENE     3514\n",
       "CONTROL_REGION    3514\n",
       "NEXT_GENE         3514\n",
       "dtype: int64"
      ]
     },
     "execution_count": 36,
     "metadata": {},
     "output_type": "execute_result"
    },
    {
     "data": {
      "text/plain": [
       "2164"
      ]
     },
     "execution_count": 36,
     "metadata": {},
     "output_type": "execute_result"
    }
   ],
   "source": [
    "general_table.count()\n",
    "len(general_table[\"TAXONOMY\"].unique())\n"
   ]
  }
 ],
 "metadata": {
  "kernelspec": {
   "display_name": "Python 3",
   "language": "python",
   "name": "python3"
  },
  "language_info": {
   "codemirror_mode": {
    "name": "ipython",
    "version": 3
   },
   "file_extension": ".py",
   "mimetype": "text/x-python",
   "name": "python",
   "nbconvert_exporter": "python",
   "pygments_lexer": "ipython3",
   "version": "3.10.6"
  },
  "orig_nbformat": 4,
  "vscode": {
   "interpreter": {
    "hash": "916dbcbb3f70747c44a77c7bcd40155683ae19c65e1c03b4aa3499c5328201f1"
   }
  }
 },
 "nbformat": 4,
 "nbformat_minor": 2
}
