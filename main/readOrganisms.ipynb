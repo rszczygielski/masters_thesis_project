{
 "cells": [
  {
   "cell_type": "code",
   "execution_count": 8,
   "metadata": {},
   "outputs": [],
   "source": [
    "from IPython.display import display\n",
    "from IPython.core.interactiveshell import InteractiveShell\n",
    "InteractiveShell.ast_node_interactivity = \"all\"\n",
    "import pandas as pd\n",
    "import numpy as np\n",
    "import os\n",
    "from numpy import nan"
   ]
  },
  {
   "cell_type": "code",
   "execution_count": 9,
   "metadata": {},
   "outputs": [
    {
     "data": {
      "text/plain": [
       "[\"'Chordata'\",\n",
       " \"'Craniata'\",\n",
       " \"'Vertebrata'\",\n",
       " \"'Chondrichthyes'\",\n",
       " \"'Elasmobranchii'\"]"
      ]
     },
     "execution_count": 9,
     "metadata": {},
     "output_type": "execute_result"
    }
   ],
   "source": [
    "# Creating list of taxonomy based on the requirements from excel file\n",
    "taxonomy_excel = pd.read_excel(\"/home/rszczygielski/bioinf/magisterka/geneBank/results/necessary_taxonomy/taxonomy1.xlsx\")\n",
    "array_of_values = taxonomy_excel.values\n",
    "list_of_values = []\n",
    "for row_array in array_of_values:\n",
    "    row_array = row_array[~pd.isnull(row_array)]\n",
    "    row_list = list(row_array)\n",
    "    list_of_values.append(row_list)\n",
    "\n",
    "taxonomy_row_list = []\n",
    "for elem in list_of_values:\n",
    "    new_elem = list(map(str.strip, elem))\n",
    "    taxonomy_row_list.append(new_elem)\n",
    "taxonomy_row_list[0]"
   ]
  },
  {
   "cell_type": "code",
   "execution_count": 3,
   "metadata": {},
   "outputs": [
    {
     "data": {
      "text/plain": [
       "(4664, 4)"
      ]
     },
     "execution_count": 3,
     "metadata": {},
     "output_type": "execute_result"
    }
   ],
   "source": [
    "mitochondrion_type = \"1\"\n",
    "main_file_path = f\"/home/rszczygielski/bioinf/magisterka/geneBank/results/mitochondrion_{mitochondrion_type}.txt\"\n",
    "\n",
    "df_masters = pd.read_csv(main_file_path,\\\n",
    "    header=0,\\\n",
    "    delimiter='\\t',\\\n",
    "    usecols=[\"ACCESSION\", \"ORGANISM\",\"TAXONOMY\", \"PREVIOUS_GENE\",\"CONTROL_REGION\", \"NEXT_GENE\"],\\\n",
    "    index_col=\"ACCESSION\")\n",
    "\n",
    "df_taxonomy = df_masters[[\"TAXONOMY\", \"PREVIOUS_GENE\",\"CONTROL_REGION\", \"NEXT_GENE\"]]\n",
    "df_taxonomy.shape"
   ]
  },
  {
   "cell_type": "code",
   "execution_count": 4,
   "metadata": {},
   "outputs": [],
   "source": [
    "# TEST\n",
    "# test_cr = df_taxonomy[\"CONTROL_REGION\"].to_list()\n",
    "# for cr in test_cr:\n",
    "#     splited_row = cr.split()\n",
    "#     if splited_row[-1] != \"None\":\n",
    "#         print(cr)"
   ]
  },
  {
   "cell_type": "code",
   "execution_count": 5,
   "metadata": {},
   "outputs": [
    {
     "name": "stderr",
     "output_type": "stream",
     "text": [
      "/tmp/ipykernel_19294/1711614970.py:35: SettingWithCopyWarning: \n",
      "A value is trying to be set on a copy of a slice from a DataFrame.\n",
      "Try using .loc[row_indexer,col_indexer] = value instead\n",
      "\n",
      "See the caveats in the documentation: https://pandas.pydata.org/pandas-docs/stable/user_guide/indexing.html#returning-a-view-versus-a-copy\n",
      "  df_taxonomy[\"PREVIOUS_GENE\"] = df_taxonomy[\"PREVIOUS_GENE\"].apply(lambda value: get_specific_previous_and_next_gene_info(value))\n",
      "/tmp/ipykernel_19294/1711614970.py:36: SettingWithCopyWarning: \n",
      "A value is trying to be set on a copy of a slice from a DataFrame.\n",
      "Try using .loc[row_indexer,col_indexer] = value instead\n",
      "\n",
      "See the caveats in the documentation: https://pandas.pydata.org/pandas-docs/stable/user_guide/indexing.html#returning-a-view-versus-a-copy\n",
      "  df_taxonomy[\"CONTROL_REGION\"] = df_taxonomy[\"CONTROL_REGION\"].apply(lambda value: get_specific_control_region_info(value))\n",
      "/tmp/ipykernel_19294/1711614970.py:37: SettingWithCopyWarning: \n",
      "A value is trying to be set on a copy of a slice from a DataFrame.\n",
      "Try using .loc[row_indexer,col_indexer] = value instead\n",
      "\n",
      "See the caveats in the documentation: https://pandas.pydata.org/pandas-docs/stable/user_guide/indexing.html#returning-a-view-versus-a-copy\n",
      "  df_taxonomy[\"NEXT_GENE\"] = df_taxonomy[\"NEXT_GENE\"].apply(lambda value: get_specific_previous_and_next_gene_info(value))\n"
     ]
    },
    {
     "data": {
      "text/html": [
       "<div>\n",
       "<style scoped>\n",
       "    .dataframe tbody tr th:only-of-type {\n",
       "        vertical-align: middle;\n",
       "    }\n",
       "\n",
       "    .dataframe tbody tr th {\n",
       "        vertical-align: top;\n",
       "    }\n",
       "\n",
       "    .dataframe thead th {\n",
       "        text-align: right;\n",
       "    }\n",
       "</style>\n",
       "<table border=\"1\" class=\"dataframe\">\n",
       "  <thead>\n",
       "    <tr style=\"text-align: right;\">\n",
       "      <th></th>\n",
       "      <th>TAXONOMY</th>\n",
       "      <th>PREVIOUS_GENE</th>\n",
       "      <th>CONTROL_REGION</th>\n",
       "      <th>NEXT_GENE</th>\n",
       "    </tr>\n",
       "    <tr>\n",
       "      <th>ACCESSION</th>\n",
       "      <th></th>\n",
       "      <th></th>\n",
       "      <th></th>\n",
       "      <th></th>\n",
       "    </tr>\n",
       "  </thead>\n",
       "  <tbody>\n",
       "    <tr>\n",
       "      <th>NC_012975.1</th>\n",
       "      <td>['Eukaryota', 'Metazoa', 'Chordata', 'Craniata...</td>\n",
       "      <td>tRNA-Pro</td>\n",
       "      <td>D-loop</td>\n",
       "      <td>tRNA-Phe</td>\n",
       "    </tr>\n",
       "    <tr>\n",
       "      <th>NC_012976.1</th>\n",
       "      <td>['Eukaryota', 'Metazoa', 'Chordata', 'Craniata...</td>\n",
       "      <td>tRNA-Pro</td>\n",
       "      <td>D-loop</td>\n",
       "      <td>tRNA-Phe</td>\n",
       "    </tr>\n",
       "    <tr>\n",
       "      <th>NC_012979.1</th>\n",
       "      <td>['Eukaryota', 'Metazoa', 'Chordata', 'Craniata...</td>\n",
       "      <td>tRNA-Pro</td>\n",
       "      <td>D-loop</td>\n",
       "      <td>tRNA-Phe</td>\n",
       "    </tr>\n",
       "    <tr>\n",
       "      <th>NC_012981.1</th>\n",
       "      <td>['Eukaryota', 'Metazoa', 'Chordata', 'Craniata...</td>\n",
       "      <td>tRNA-Pro</td>\n",
       "      <td>D-loop</td>\n",
       "      <td>tRNA-Phe</td>\n",
       "    </tr>\n",
       "    <tr>\n",
       "      <th>NC_014849.1</th>\n",
       "      <td>['Eukaryota', 'Metazoa', 'Chordata', 'Craniata...</td>\n",
       "      <td>tRNA-Pro</td>\n",
       "      <td>D-loop</td>\n",
       "      <td>tRNA-Phe</td>\n",
       "    </tr>\n",
       "    <tr>\n",
       "      <th>...</th>\n",
       "      <td>...</td>\n",
       "      <td>...</td>\n",
       "      <td>...</td>\n",
       "      <td>...</td>\n",
       "    </tr>\n",
       "    <tr>\n",
       "      <th>NC_051516.1</th>\n",
       "      <td>['Eukaryota', 'Metazoa', 'Chordata', 'Craniata...</td>\n",
       "      <td>tRNA-Pro</td>\n",
       "      <td>D-loop</td>\n",
       "      <td>tRNA-Phe</td>\n",
       "    </tr>\n",
       "    <tr>\n",
       "      <th>NC_051519.1</th>\n",
       "      <td>['Eukaryota', 'Metazoa', 'Chordata', 'Craniata...</td>\n",
       "      <td>tRNA-Pro</td>\n",
       "      <td>D-loop</td>\n",
       "      <td>tRNA-Phe</td>\n",
       "    </tr>\n",
       "    <tr>\n",
       "      <th>NC_051539.1</th>\n",
       "      <td>['Eukaryota', 'Metazoa', 'Ecdysozoa', 'Arthrop...</td>\n",
       "      <td>rRNA</td>\n",
       "      <td>D-loop</td>\n",
       "      <td>tRNA-Ile</td>\n",
       "    </tr>\n",
       "    <tr>\n",
       "      <th>NC_051528.1</th>\n",
       "      <td>['Eukaryota', 'Metazoa', 'Ecdysozoa', 'Arthrop...</td>\n",
       "      <td>rRNA</td>\n",
       "      <td>misc_feature</td>\n",
       "      <td>tRNA-Ile</td>\n",
       "    </tr>\n",
       "    <tr>\n",
       "      <th>NC_051525.1</th>\n",
       "      <td>['Eukaryota', 'Metazoa', 'Ecdysozoa', 'Arthrop...</td>\n",
       "      <td>rRNA</td>\n",
       "      <td>D-loop</td>\n",
       "      <td>tRNA-Ile</td>\n",
       "    </tr>\n",
       "  </tbody>\n",
       "</table>\n",
       "<p>4664 rows × 4 columns</p>\n",
       "</div>"
      ],
      "text/plain": [
       "                                                      TAXONOMY PREVIOUS_GENE  \\\n",
       "ACCESSION                                                                      \n",
       "NC_012975.1  ['Eukaryota', 'Metazoa', 'Chordata', 'Craniata...      tRNA-Pro   \n",
       "NC_012976.1  ['Eukaryota', 'Metazoa', 'Chordata', 'Craniata...      tRNA-Pro   \n",
       "NC_012979.1  ['Eukaryota', 'Metazoa', 'Chordata', 'Craniata...      tRNA-Pro   \n",
       "NC_012981.1  ['Eukaryota', 'Metazoa', 'Chordata', 'Craniata...      tRNA-Pro   \n",
       "NC_014849.1  ['Eukaryota', 'Metazoa', 'Chordata', 'Craniata...      tRNA-Pro   \n",
       "...                                                        ...           ...   \n",
       "NC_051516.1  ['Eukaryota', 'Metazoa', 'Chordata', 'Craniata...      tRNA-Pro   \n",
       "NC_051519.1  ['Eukaryota', 'Metazoa', 'Chordata', 'Craniata...      tRNA-Pro   \n",
       "NC_051539.1  ['Eukaryota', 'Metazoa', 'Ecdysozoa', 'Arthrop...          rRNA   \n",
       "NC_051528.1  ['Eukaryota', 'Metazoa', 'Ecdysozoa', 'Arthrop...          rRNA   \n",
       "NC_051525.1  ['Eukaryota', 'Metazoa', 'Ecdysozoa', 'Arthrop...          rRNA   \n",
       "\n",
       "            CONTROL_REGION NEXT_GENE  \n",
       "ACCESSION                             \n",
       "NC_012975.1         D-loop  tRNA-Phe  \n",
       "NC_012976.1         D-loop  tRNA-Phe  \n",
       "NC_012979.1         D-loop  tRNA-Phe  \n",
       "NC_012981.1         D-loop  tRNA-Phe  \n",
       "NC_014849.1         D-loop  tRNA-Phe  \n",
       "...                    ...       ...  \n",
       "NC_051516.1         D-loop  tRNA-Phe  \n",
       "NC_051519.1         D-loop  tRNA-Phe  \n",
       "NC_051539.1         D-loop  tRNA-Ile  \n",
       "NC_051528.1   misc_feature  tRNA-Ile  \n",
       "NC_051525.1         D-loop  tRNA-Ile  \n",
       "\n",
       "[4664 rows x 4 columns]"
      ]
     },
     "metadata": {},
     "output_type": "display_data"
    }
   ],
   "source": [
    "import re\n",
    "# pd.set_option('display.max_rows', None)\n",
    "\n",
    "# bool(re.search(r'\\d', list_of_bruckets[1]) returns true if any digit is in the string\n",
    "\n",
    "def get_specific_previous_and_next_gene_info(gene):\n",
    "    \"\"\"Method returns transformed gene specific info for a given string\n",
    "\n",
    "    Args:\n",
    "        gene (str): gene information\n",
    "\n",
    "    Returns:\n",
    "        str: flitrated specific gene type\n",
    "    \"\"\"\n",
    "    list_of_bruckets = list(re.findall(r'\\[.*?\\]', gene))\n",
    "    if (len(list_of_bruckets) == 1 or len(list_of_bruckets) > 2 or bool(re.search(r'\\d', list_of_bruckets[1]))) and gene.split()[0] != \"CDS\":\n",
    "        result = gene.split()[0]\n",
    "    else:\n",
    "        result = list_of_bruckets[1]\n",
    "        if \"[\" in result:\n",
    "            result = re.findall(r\"'([^']*)'\", result)[0]\n",
    "    return result\n",
    "\n",
    "def get_specific_control_region_info(control_region):\n",
    "    \"\"\"Method gets name of a control region from control region information string\n",
    "\n",
    "    Args:\n",
    "        control_region (string): control region gene info\n",
    "\n",
    "    Returns:\n",
    "        str: flitrated control region name\n",
    "    \"\"\"\n",
    "    return control_region.split()[0]\n",
    "\n",
    "df_taxonomy[\"PREVIOUS_GENE\"] = df_taxonomy[\"PREVIOUS_GENE\"].apply(lambda value: get_specific_previous_and_next_gene_info(value))\n",
    "df_taxonomy[\"CONTROL_REGION\"] = df_taxonomy[\"CONTROL_REGION\"].apply(lambda value: get_specific_control_region_info(value))\n",
    "df_taxonomy[\"NEXT_GENE\"] = df_taxonomy[\"NEXT_GENE\"].apply(lambda value: get_specific_previous_and_next_gene_info(value))\n",
    "\n",
    "# test = df_taxonomy[\"PREVIOUS_GENE\"].apply(lambda value: get_specific_previous_and_next_gene_info(value))\n",
    "\n",
    "display(df_taxonomy)"
   ]
  },
  {
   "cell_type": "code",
   "execution_count": 6,
   "metadata": {},
   "outputs": [],
   "source": [
    "# display(df_taxonomy)\n",
    "# pd.set_option('display.max_columns', None)\n",
    "pd.set_option('display.max_rows', None)\n",
    "\n",
    "\n",
    "general_table = pd.DataFrame()\n",
    "for row_excel_taxonomy in enumerate(taxonomy_row_list):\n",
    "    joined_values_entry = \", \".join(row_excel_taxonomy[1])\n",
    "    aggragated_taxonomy = df_taxonomy.where(df_taxonomy[\"TAXONOMY\"].str.contains(joined_values_entry)).dropna()\n",
    "    general_table = pd.concat([general_table, aggragated_taxonomy])\n",
    "\n",
    "general_table = general_table.where(general_table[\"NEXT_GENE\"] != \"D-loop\").dropna()\n",
    "general_table.to_excel(f\"/home/rszczygielski/bioinf/magisterka/geneBank/results/General_info_mitochondrion_{mitochondrion_type}.xlsx\")"
   ]
  },
  {
   "cell_type": "code",
   "execution_count": 7,
   "metadata": {},
   "outputs": [
    {
     "data": {
      "text/plain": [
       "TAXONOMY          4088\n",
       "PREVIOUS_GENE     4088\n",
       "CONTROL_REGION    4088\n",
       "NEXT_GENE         4088\n",
       "dtype: int64"
      ]
     },
     "execution_count": 7,
     "metadata": {},
     "output_type": "execute_result"
    },
    {
     "data": {
      "text/plain": [
       "2275"
      ]
     },
     "execution_count": 7,
     "metadata": {},
     "output_type": "execute_result"
    }
   ],
   "source": [
    "general_table.count()\n",
    "len(general_table[\"TAXONOMY\"].unique())\n"
   ]
  }
 ],
 "metadata": {
  "kernelspec": {
   "display_name": "Python 3",
   "language": "python",
   "name": "python3"
  },
  "language_info": {
   "codemirror_mode": {
    "name": "ipython",
    "version": 3
   },
   "file_extension": ".py",
   "mimetype": "text/x-python",
   "name": "python",
   "nbconvert_exporter": "python",
   "pygments_lexer": "ipython3",
   "version": "3.10.6"
  },
  "orig_nbformat": 4,
  "vscode": {
   "interpreter": {
    "hash": "916dbcbb3f70747c44a77c7bcd40155683ae19c65e1c03b4aa3499c5328201f1"
   }
  }
 },
 "nbformat": 4,
 "nbformat_minor": 2
}
