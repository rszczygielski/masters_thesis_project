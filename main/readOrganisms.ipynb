{
 "cells": [
  {
   "cell_type": "code",
   "execution_count": 8,
   "metadata": {},
   "outputs": [],
   "source": [
    "from IPython.display import display\n",
    "from IPython.core.interactiveshell import InteractiveShell\n",
    "InteractiveShell.ast_node_interactivity = \"all\"\n",
    "import pandas as pd\n",
    "import numpy as np\n",
    "import os\n",
    "from numpy import nan"
   ]
  },
  {
   "cell_type": "code",
   "execution_count": 9,
   "metadata": {},
   "outputs": [
    {
     "data": {
      "text/plain": [
       "[\"'Chordata'\",\n",
       " \"'Craniata'\",\n",
       " \"'Vertebrata'\",\n",
       " \"'Chondrichthyes'\",\n",
       " \"'Elasmobranchii'\"]"
      ]
     },
     "execution_count": 9,
     "metadata": {},
     "output_type": "execute_result"
    }
   ],
   "source": [
    "# Creating list of taxonomy based on the requirements from excel file\n",
    "taxonomy_excel = pd.read_excel(\"/home/rszczygielski/bioinf/magisterka/geneBank/results/necessary_taxonomy/taxonomy1.xlsx\")\n",
    "array_of_values = taxonomy_excel.values\n",
    "list_of_values = []\n",
    "for row_array in array_of_values:\n",
    "    row_array = row_array[~pd.isnull(row_array)]\n",
    "    row_list = list(row_array)\n",
    "    list_of_values.append(row_list)\n",
    "\n",
    "taxonomy_row_list = []\n",
    "for elem in list_of_values:\n",
    "    new_elem = list(map(str.strip, elem))\n",
    "    taxonomy_row_list.append(new_elem)\n",
    "taxonomy_row_list[0]"
   ]
  },
  {
   "cell_type": "code",
   "execution_count": 3,
   "metadata": {},
   "outputs": [
    {
     "data": {
      "text/plain": [
       "(4664, 4)"
      ]
     },
     "execution_count": 3,
     "metadata": {},
     "output_type": "execute_result"
    }
   ],
   "source": [
    "mitochondrion_type = \"1\"\n",
    "main_file_path = f\"/home/rszczygielski/bioinf/magisterka/geneBank/results/mitochondrion_{mitochondrion_type}.txt\"\n",
    "\n",
    "# df_masters = pd.read_csv(main_file_path,\\\n",
    "#     header=0,\\\n",
    "#     delimiter='\\t',\\\n",
    "#     usecols=[\"ACCESSION\", \"ORGANISM\",\"TAXONOMY\", \"PREVIOUS_GENE\",\"CONTROL_REGION\", \"NEXT_GENE\"],\\\n",
    "#     index_col=\"ACCESSION\")\n",
    "\n",
    "# df_taxonomy = df_masters[[\"TAXONOMY\", \"PREVIOUS_GENE\",\"CONTROL_REGION\", \"NEXT_GENE\"]]\n",
    "# df_taxonomy.shape"
   ]
  },
  {
   "cell_type": "code",
   "execution_count": 6,
   "metadata": {},
   "outputs": [],
   "source": [
    "pd.set_option('display.max_rows', None)\n",
    "\n",
    "\n",
    "general_table = pd.DataFrame()\n",
    "for row_excel_taxonomy in enumerate(taxonomy_row_list):\n",
    "    joined_values_entry = \", \".join(row_excel_taxonomy[1])\n",
    "    aggragated_taxonomy = df_taxonomy.where(df_taxonomy[\"TAXONOMY\"].str.contains(joined_values_entry)).dropna()\n",
    "    general_table = pd.concat([general_table, aggragated_taxonomy])\n",
    "\n",
    "general_table = general_table.where(general_table[\"NEXT_GENE\"] != \"D-loop\").dropna()\n",
    "general_table.to_excel(f\"/home/rszczygielski/bioinf/magisterka/geneBank/results/General_info_mitochondrion_{mitochondrion_type}.xlsx\")"
   ]
  },
  {
   "cell_type": "code",
   "execution_count": null,
   "metadata": {},
   "outputs": [],
   "source": [
    "display(general_table)"
   ]
  },
  {
   "cell_type": "code",
   "execution_count": 7,
   "metadata": {},
   "outputs": [
    {
     "data": {
      "text/plain": [
       "TAXONOMY          4088\n",
       "PREVIOUS_GENE     4088\n",
       "CONTROL_REGION    4088\n",
       "NEXT_GENE         4088\n",
       "dtype: int64"
      ]
     },
     "execution_count": 7,
     "metadata": {},
     "output_type": "execute_result"
    },
    {
     "data": {
      "text/plain": [
       "2275"
      ]
     },
     "execution_count": 7,
     "metadata": {},
     "output_type": "execute_result"
    }
   ],
   "source": [
    "general_table.count()\n",
    "len(general_table[\"TAXONOMY\"].unique())\n"
   ]
  }
 ],
 "metadata": {
  "kernelspec": {
   "display_name": "Python 3",
   "language": "python",
   "name": "python3"
  },
  "language_info": {
   "codemirror_mode": {
    "name": "ipython",
    "version": 3
   },
   "file_extension": ".py",
   "mimetype": "text/x-python",
   "name": "python",
   "nbconvert_exporter": "python",
   "pygments_lexer": "ipython3",
   "version": "3.10.6"
  },
  "orig_nbformat": 4,
  "vscode": {
   "interpreter": {
    "hash": "916dbcbb3f70747c44a77c7bcd40155683ae19c65e1c03b4aa3499c5328201f1"
   }
  }
 },
 "nbformat": 4,
 "nbformat_minor": 2
}
